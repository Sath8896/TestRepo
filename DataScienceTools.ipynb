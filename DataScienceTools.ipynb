{
 "cells": [
  {
   "cell_type": "markdown",
   "id": "8a773bcc-d77d-4184-8fc1-d7b6adac60d1",
   "metadata": {},
   "source": [
    "**Exercise 2: Create markdown cell with title of the notebook**"
   ]
  },
  {
   "cell_type": "markdown",
   "id": "061bdc1f-917a-4f67-83b1-19765e6b5bf8",
   "metadata": {},
   "source": [
    "# Data Science Tools"
   ]
  },
  {
   "cell_type": "markdown",
   "id": "d64fb4d5-83e7-4f08-8fa3-6330c1527135",
   "metadata": {},
   "source": [
    "**Exercise 3 - Create a markdown cell for an introduction**"
   ]
  },
  {
   "cell_type": "markdown",
   "id": "0d7d69b4-2209-44e9-8590-c9f0bcf1aa7b",
   "metadata": {},
   "source": [
    "## Introduction  \n",
    "This is an introduction to data science tools."
   ]
  },
  {
   "cell_type": "markdown",
   "id": "61976b39-e4b3-432f-958c-6a49150558db",
   "metadata": {},
   "source": [
    "**Exercise 4 - Create a markdown cell to list data science languages.**"
   ]
  },
  {
   "cell_type": "markdown",
   "id": "0c7783c6-fe9a-4098-b260-a035645c6fed",
   "metadata": {},
   "source": [
    "## List of Data Science Languages  \n",
    "Here are some popular programming languages used in Data Science:  \n",
    "1. Python  \n",
    "2. R  \n",
    "3. SQL  \n",
    "4. Julia  \n",
    "5. Scala\n"
   ]
  },
  {
   "cell_type": "markdown",
   "id": "c4fe3778-f069-48ec-859d-5b3893341106",
   "metadata": {},
   "source": [
    "**Exercise 5 - Create a markdown cell to list data science libraries.**"
   ]
  },
  {
   "cell_type": "markdown",
   "id": "25f7cc59-13e7-4540-890d-33c30322f619",
   "metadata": {},
   "source": [
    "## Data Science Libraries  \n",
    "Popular libraries used in Data Science are:  \n",
    "- Pandas  \n",
    "- NumPy  \n",
    "- Matplotlib  \n",
    "- Scikit-learn  \n",
    "- TensorFlow\n"
   ]
  },
  {
   "cell_type": "markdown",
   "id": "5fea50a1-bd72-492d-8714-3836ea78790d",
   "metadata": {},
   "source": [
    "**Exercise 6 - Create a markdown cell with a table of Data Science tools**"
   ]
  },
  {
   "cell_type": "markdown",
   "id": "e896f925-fc36-4b3b-8c13-842283cf730a",
   "metadata": {},
   "source": [
    "## The table of Data Science Tools  \n",
    "\n",
    "| Tool Name          | Category              | Description                               |\n",
    "|--------------------|-----------------------|-------------------------------------------|\n",
    "| Jupyter Notebook   | Interactive Environment | Run and share live code and markdown     |\n",
    "| RStudio            | IDE                   | Development environment for R             |\n",
    "| Apache Spark       | Big Data Processing   | Distributed data processing engine        |\n",
    "| IBM Watson Studio  | Cloud Platform        | Integrated tools for data scientists      |\n",
    "| TensorFlow         | Machine Learning      | End-to-end open-source ML platform        |\n"
   ]
  },
  {
   "cell_type": "markdown",
   "id": "522676ac-f4e0-4a07-8c45-5c66562d522c",
   "metadata": {},
   "source": [
    "**Exercise 7 - Create a markdown cell introducing arithmetic expression examples.**"
   ]
  },
  {
   "cell_type": "markdown",
   "id": "4264b33e-9424-410a-8980-02ec899f44ed",
   "metadata": {},
   "source": [
    "## Arithmetic Expression Examples  \n",
    "Below are Python code examples performing basic arithmetic operations.\n"
   ]
  },
  {
   "cell_type": "markdown",
   "id": "471f3a38-b9ec-496d-ac93-73030d2438c2",
   "metadata": {},
   "source": [
    "**Exercise 8 - Create a code cell to multiply and add numbers.**"
   ]
  },
  {
   "cell_type": "code",
   "execution_count": 3,
   "id": "31efc80b-e5d6-4f05-a122-4469eafbf184",
   "metadata": {},
   "outputs": [
    {
     "name": "stdout",
     "output_type": "stream",
     "text": [
      "21\n"
     ]
    }
   ],
   "source": [
    "# This expression multiplies 4 by 4 and then adds 5\n",
    "x = (4*4)+5\n",
    "print(x)\n",
    "# the expected output : 21"
   ]
  },
  {
   "cell_type": "markdown",
   "id": "2b7e1f2b-e1c2-481c-a455-dc2ab4663af2",
   "metadata": {},
   "source": [
    "**Exercise 9 - Create a code cell to convert minutes to hours.**"
   ]
  },
  {
   "cell_type": "code",
   "execution_count": 4,
   "id": "0fa3afa1-41ba-42aa-8459-f76dfc679adc",
   "metadata": {},
   "outputs": [
    {
     "data": {
      "text/plain": [
       "3.3333333333333335"
      ]
     },
     "execution_count": 4,
     "metadata": {},
     "output_type": "execute_result"
    }
   ],
   "source": [
    "# Converting 200 minutes to hours\n",
    "minutes = 200\n",
    "hours = minutes / 60\n",
    "hours\n"
   ]
  },
  {
   "cell_type": "markdown",
   "id": "5c2f363d-6776-4227-bb38-484b0435db60",
   "metadata": {},
   "source": [
    "**Exercise 10 -Insert a markdown cell to list Objectives.**"
   ]
  },
  {
   "cell_type": "markdown",
   "id": "5478029b-8544-4832-8514-26b3c9a784ea",
   "metadata": {},
   "source": [
    "## Objectives  \n",
    "- Identify key programming languages used in Data Science  \n",
    "- Understand common libraries used by data scientists  \n",
    "- Learn about popular Data Science tools  \n",
    "- Practice arithmetic operations in Python  \n",
    "- Learn to use and share notebooks with GitHub\n"
   ]
  },
  {
   "cell_type": "markdown",
   "id": "851ac839-39ed-477a-bc01-fb685205d69f",
   "metadata": {},
   "source": [
    "**Exercise 11 - Create a markdown cell to indicate the Author’s name.**"
   ]
  },
  {
   "cell_type": "markdown",
   "id": "ee34511f-532a-448d-8e81-b249ece71107",
   "metadata": {},
   "source": [
    "## Author  \n",
    "Sathvik Reddy\n"
   ]
  }
 ],
 "metadata": {
  "kernelspec": {
   "display_name": "Python 3 (ipykernel)",
   "language": "python",
   "name": "python3"
  },
  "language_info": {
   "codemirror_mode": {
    "name": "ipython",
    "version": 3
   },
   "file_extension": ".py",
   "mimetype": "text/x-python",
   "name": "python",
   "nbconvert_exporter": "python",
   "pygments_lexer": "ipython3",
   "version": "3.12.8"
  }
 },
 "nbformat": 4,
 "nbformat_minor": 5
}
